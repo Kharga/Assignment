{
  "nbformat": 4,
  "nbformat_minor": 0,
  "metadata": {
    "colab": {
      "provenance": [],
      "include_colab_link": true
    },
    "kernelspec": {
      "name": "python3",
      "display_name": "Python 3"
    },
    "language_info": {
      "name": "python"
    }
  },
  "cells": [
    {
      "cell_type": "markdown",
      "metadata": {
        "id": "view-in-github",
        "colab_type": "text"
      },
      "source": [
        "<a href=\"https://colab.research.google.com/github/Kharga/Assignment/blob/main/Worksheet4.ipynb\" target=\"_parent\"><img src=\"https://colab.research.google.com/assets/colab-badge.svg\" alt=\"Open In Colab\"/></a>"
      ]
    },
    {
      "cell_type": "markdown",
      "source": [
        "Aayush Kharga\n"
      ],
      "metadata": {
        "id": "xxC6AqPnbAU_"
      }
    },
    {
      "cell_type": "markdown",
      "source": [
        "Problem - 1: Perform a classification task with knn from scratch."
      ],
      "metadata": {
        "id": "bEv6hSi9mdss"
      }
    },
    {
      "cell_type": "markdown",
      "source": [
        "1. Load the Dataset:"
      ],
      "metadata": {
        "id": "OQ-0NpugmjvL"
      }
    },
    {
      "cell_type": "code",
      "source": [
        "import pandas as pd\n",
        "from google.colab import drive\n",
        "\n",
        "# Step 1: Mount Google Drive to access the file\n",
        "drive.mount('/content/drive')\n",
        "\n",
        "# Step 2: Load the dataset (replace 'diabetes.csv' with the correct file path)\n",
        "df = pd.read_csv('/content/drive/My Drive/diabetes.csv')\n",
        "\n",
        "# Check the dataset\n",
        "print(df.head())\n",
        "print(df.info())\n",
        "print(df.describe())\n",
        "print(df.isnull().sum())\n"
      ],
      "metadata": {
        "colab": {
          "base_uri": "https://localhost:8080/"
        },
        "id": "vOl9ASipml2l",
        "outputId": "4ae439ae-7577-49f8-fe2f-2ad80e1dd07f"
      },
      "execution_count": null,
      "outputs": [
        {
          "output_type": "stream",
          "name": "stdout",
          "text": [
            "Drive already mounted at /content/drive; to attempt to forcibly remount, call drive.mount(\"/content/drive\", force_remount=True).\n",
            "   Pregnancies  Glucose  BloodPressure  SkinThickness  Insulin   BMI  \\\n",
            "0            6      148             72             35        0  33.6   \n",
            "1            1       85             66             29        0  26.6   \n",
            "2            8      183             64              0        0  23.3   \n",
            "3            1       89             66             23       94  28.1   \n",
            "4            0      137             40             35      168  43.1   \n",
            "\n",
            "   DiabetesPedigreeFunction  Age  Outcome  \n",
            "0                     0.627   50        1  \n",
            "1                     0.351   31        0  \n",
            "2                     0.672   32        1  \n",
            "3                     0.167   21        0  \n",
            "4                     2.288   33        1  \n",
            "<class 'pandas.core.frame.DataFrame'>\n",
            "RangeIndex: 768 entries, 0 to 767\n",
            "Data columns (total 9 columns):\n",
            " #   Column                    Non-Null Count  Dtype  \n",
            "---  ------                    --------------  -----  \n",
            " 0   Pregnancies               768 non-null    int64  \n",
            " 1   Glucose                   768 non-null    int64  \n",
            " 2   BloodPressure             768 non-null    int64  \n",
            " 3   SkinThickness             768 non-null    int64  \n",
            " 4   Insulin                   768 non-null    int64  \n",
            " 5   BMI                       768 non-null    float64\n",
            " 6   DiabetesPedigreeFunction  768 non-null    float64\n",
            " 7   Age                       768 non-null    int64  \n",
            " 8   Outcome                   768 non-null    int64  \n",
            "dtypes: float64(2), int64(7)\n",
            "memory usage: 54.1 KB\n",
            "None\n",
            "       Pregnancies     Glucose  BloodPressure  SkinThickness     Insulin  \\\n",
            "count   768.000000  768.000000     768.000000     768.000000  768.000000   \n",
            "mean      3.845052  120.894531      69.105469      20.536458   79.799479   \n",
            "std       3.369578   31.972618      19.355807      15.952218  115.244002   \n",
            "min       0.000000    0.000000       0.000000       0.000000    0.000000   \n",
            "25%       1.000000   99.000000      62.000000       0.000000    0.000000   \n",
            "50%       3.000000  117.000000      72.000000      23.000000   30.500000   \n",
            "75%       6.000000  140.250000      80.000000      32.000000  127.250000   \n",
            "max      17.000000  199.000000     122.000000      99.000000  846.000000   \n",
            "\n",
            "              BMI  DiabetesPedigreeFunction         Age     Outcome  \n",
            "count  768.000000                768.000000  768.000000  768.000000  \n",
            "mean    31.992578                  0.471876   33.240885    0.348958  \n",
            "std      7.884160                  0.331329   11.760232    0.476951  \n",
            "min      0.000000                  0.078000   21.000000    0.000000  \n",
            "25%     27.300000                  0.243750   24.000000    0.000000  \n",
            "50%     32.000000                  0.372500   29.000000    0.000000  \n",
            "75%     36.600000                  0.626250   41.000000    1.000000  \n",
            "max     67.100000                  2.420000   81.000000    1.000000  \n",
            "Pregnancies                 0\n",
            "Glucose                     0\n",
            "BloodPressure               0\n",
            "SkinThickness               0\n",
            "Insulin                     0\n",
            "BMI                         0\n",
            "DiabetesPedigreeFunction    0\n",
            "Age                         0\n",
            "Outcome                     0\n",
            "dtype: int64\n"
          ]
        }
      ]
    },
    {
      "cell_type": "markdown",
      "source": [
        "Handle Missing Data"
      ],
      "metadata": {
        "id": "C5esjaYuoXt2"
      }
    },
    {
      "cell_type": "code",
      "source": [
        "# Example: Impute missing values\n",
        "df.fillna(df.median(), inplace=True)\n",
        "print(df.isnull().sum())  # Confirm no missing values\n"
      ],
      "metadata": {
        "colab": {
          "base_uri": "https://localhost:8080/"
        },
        "id": "q_wKXEphoeid",
        "outputId": "806aabe2-ef02-4787-a567-d1335ef606e2"
      },
      "execution_count": null,
      "outputs": [
        {
          "output_type": "stream",
          "name": "stdout",
          "text": [
            "Pregnancies                 0\n",
            "Glucose                     0\n",
            "BloodPressure               0\n",
            "SkinThickness               0\n",
            "Insulin                     0\n",
            "BMI                         0\n",
            "DiabetesPedigreeFunction    0\n",
            "Age                         0\n",
            "Outcome                     0\n",
            "dtype: int64\n"
          ]
        }
      ]
    },
    {
      "cell_type": "markdown",
      "source": [
        "Feature Engineering:"
      ],
      "metadata": {
        "id": "A9E1SYKJokUK"
      }
    },
    {
      "cell_type": "code",
      "source": [
        "# Separate features and target\n",
        "X = df.drop('Outcome', axis=1).values\n",
        "y = df['Outcome'].values\n",
        "\n",
        "# Train-test split\n",
        "indices = np.arange(len(X))\n",
        "np.random.shuffle(indices)\n",
        "\n",
        "split = int(0.7 * len(X))\n",
        "X_train, X_test = X[indices[:split]], X[indices[split:]]\n",
        "y_train, y_test = y[indices[:split]], y[indices[split:]]\n"
      ],
      "metadata": {
        "id": "5iYvajN0oky-"
      },
      "execution_count": null,
      "outputs": []
    },
    {
      "cell_type": "markdown",
      "source": [
        "Implement KNN:"
      ],
      "metadata": {
        "id": "dnJ1W-nEoquQ"
      }
    },
    {
      "cell_type": "code",
      "source": [
        "import numpy as np\n",
        "\n",
        "# Step 1: Euclidean Distance Function\n",
        "def euclidean_distance(x1, x2):\n",
        "    \"\"\"\n",
        "    Compute the Euclidean distance between two points x1 and x2.\n",
        "    \"\"\"\n",
        "    return np.sqrt(np.sum((x1 - x2) ** 2))\n",
        "\n",
        "# Step 2: Get k nearest neighbors\n",
        "def get_neighbors(X_train, y_train, test_instance, k):\n",
        "    \"\"\"\n",
        "    Get the k nearest neighbors for a test instance.\n",
        "    \"\"\"\n",
        "    distances = []\n",
        "    for i in range(len(X_train)):\n",
        "        dist = euclidean_distance(X_train[i], test_instance)\n",
        "        distances.append((X_train[i], y_train[i], dist))\n",
        "\n",
        "    # Sort neighbors by distance\n",
        "    distances.sort(key=lambda x: x[2])\n",
        "\n",
        "    # Select the k nearest neighbors\n",
        "    neighbors = distances[:k]\n",
        "\n",
        "    return neighbors\n",
        "\n",
        "# Step 3: Predict the class for a single test instance\n",
        "def predict_instance(X_train, y_train, test_instance, k):\n",
        "    \"\"\"\n",
        "    Predict the class for a single test instance.\n",
        "    \"\"\"\n",
        "    neighbors = get_neighbors(X_train, y_train, test_instance, k)\n",
        "\n",
        "    # Get the most common class label (majority vote)\n",
        "    output_values = [neighbor[1] for neighbor in neighbors]\n",
        "    prediction = np.bincount(output_values).argmax()\n",
        "\n",
        "    return prediction\n",
        "\n",
        "# Step 4: Predict classes for all test samples\n",
        "def predict_all(X_train, y_train, X_test, k):\n",
        "    \"\"\"\n",
        "    Predict the class for each test sample.\n",
        "    \"\"\"\n",
        "    predictions = []\n",
        "    for test_instance in X_test:\n",
        "        prediction = predict_instance(X_train, y_train, test_instance, k)\n",
        "        predictions.append(prediction)\n",
        "\n",
        "    return np.array(predictions)\n",
        "\n",
        "# Step 5: Accuracy Calculation\n",
        "def accuracy(y_test, y_pred):\n",
        "    \"\"\"\n",
        "    Calculate the accuracy of the model by comparing predicted and true labels.\n",
        "    \"\"\"\n",
        "    correct = np.sum(y_test == y_pred)\n",
        "    return correct / len(y_test)\n",
        "\n",
        "# Example Usage:\n",
        "\n",
        "# Let's assume X_train, X_test, y_train, y_test are already defined as NumPy arrays.\n",
        "# For example:\n",
        "# X_train = np.array([[1, 2], [3, 4], [5, 6], [7, 8]])\n",
        "# y_train = np.array([0, 1, 0, 1])\n",
        "# X_test = np.array([[2, 3], [6, 7]])\n",
        "# y_test = np.array([0, 1])\n",
        "\n",
        "k = 5  # Number of nearest neighbors\n",
        "y_pred = predict_all(X_train, y_train, X_test, k)\n",
        "acc = accuracy(y_test, y_pred)\n",
        "\n",
        "print(f\"Accuracy with k={k}: {acc:.2f}\")\n"
      ],
      "metadata": {
        "colab": {
          "base_uri": "https://localhost:8080/"
        },
        "id": "hhgsdsqRozAy",
        "outputId": "12701a53-7fe6-4f5d-b3ae-a309d401d41a"
      },
      "execution_count": null,
      "outputs": [
        {
          "output_type": "stream",
          "name": "stdout",
          "text": [
            "Accuracy with k=5: 0.66\n"
          ]
        }
      ]
    },
    {
      "cell_type": "markdown",
      "source": [
        "Problem - 2 - Experimentation:"
      ],
      "metadata": {
        "id": "dBNMJRRWpgxN"
      }
    },
    {
      "cell_type": "markdown",
      "source": [
        "Scaling the Feature Matrix and Training the kNN Classifier"
      ],
      "metadata": {
        "id": "X3SvkJmppx4k"
      }
    },
    {
      "cell_type": "code",
      "source": [
        "import numpy as np\n",
        "from sklearn.preprocessing import StandardScaler\n",
        "from sklearn.model_selection import train_test_split\n",
        "\n",
        "# Function to calculate Euclidean distance\n",
        "def euclidean_distance(x1, x2):\n",
        "    return np.sqrt(np.sum((x1 - x2) ** 2))\n",
        "\n",
        "# Function to get k nearest neighbors\n",
        "def get_neighbors(X_train, y_train, test_instance, k):\n",
        "    distances = []\n",
        "    for i in range(len(X_train)):\n",
        "        dist = euclidean_distance(X_train[i], test_instance)\n",
        "        distances.append((X_train[i], y_train[i], dist))\n",
        "\n",
        "    distances.sort(key=lambda x: x[2])  # Sort by distance\n",
        "    neighbors = distances[:k]  # Get the k nearest neighbors\n",
        "    return neighbors\n",
        "\n",
        "# Function to predict the class for a single test instance\n",
        "def predict_instance(X_train, y_train, test_instance, k):\n",
        "    neighbors = get_neighbors(X_train, y_train, test_instance, k)\n",
        "    output_values = [neighbor[1] for neighbor in neighbors]\n",
        "    prediction = np.bincount(output_values).argmax()  # Majority class\n",
        "    return prediction\n",
        "\n",
        "# Function to predict classes for all test samples\n",
        "def predict_all(X_train, y_train, X_test, k):\n",
        "    predictions = []\n",
        "    for test_instance in X_test:\n",
        "        prediction = predict_instance(X_train, y_train, test_instance, k)\n",
        "        predictions.append(prediction)\n",
        "    return np.array(predictions)\n",
        "\n",
        "# Accuracy calculation function\n",
        "def accuracy(y_test, y_pred):\n",
        "    correct = np.sum(y_test == y_pred)\n",
        "    return correct / len(y_test)\n",
        "\n",
        "# 1. Prepare data: Let's assume X and y are already loaded\n",
        "# Example: Assuming the dataset is ready\n",
        "# X = np.array([[1, 2], [3, 4], [5, 6], [7, 8]])\n",
        "# y = np.array([0, 1, 0, 1])\n",
        "\n",
        "# Split the dataset into training and testing sets (80% training, 20% testing)\n",
        "X_train, X_test, y_train, y_test = train_test_split(X, y, test_size=0.2, random_state=42)\n",
        "\n",
        "# 2. Scaling the Features\n",
        "scaler = StandardScaler()\n",
        "\n",
        "# Fit the scaler on the training data and transform both the training and testing data\n",
        "X_train_scaled = scaler.fit_transform(X_train)\n",
        "X_test_scaled = scaler.transform(X_test)\n",
        "\n",
        "# 3. Train and Test the kNN Classifier on Scaled Data\n",
        "k = 5\n",
        "y_pred_scaled = predict_all(X_train_scaled, y_train, X_test_scaled, k)\n",
        "acc_scaled = accuracy(y_test, y_pred_scaled)\n",
        "print(f\"Accuracy with scaled data and k={k}: {acc_scaled:.2f}\")\n"
      ],
      "metadata": {
        "colab": {
          "base_uri": "https://localhost:8080/"
        },
        "id": "aQDtbBwcpoXq",
        "outputId": "3b80195b-1ac0-41a7-dac6-92c547f20a59"
      },
      "execution_count": null,
      "outputs": [
        {
          "output_type": "stream",
          "name": "stdout",
          "text": [
            "Accuracy with scaled data and k=5: 0.69\n"
          ]
        }
      ]
    },
    {
      "cell_type": "markdown",
      "source": [
        "Comparative Analysis"
      ],
      "metadata": {
        "id": "eKlHgfWnp9g5"
      }
    },
    {
      "cell_type": "code",
      "source": [
        "# 4. Train and Test the kNN Classifier on Original Data\n",
        "y_pred_original = predict_all(X_train, y_train, X_test, k)\n",
        "acc_original = accuracy(y_test, y_pred_original)\n",
        "print(f\"Accuracy with original data and k={k}: {acc_original:.2f}\")\n",
        "\n",
        "# 5. Comparison and Discussion:\n",
        "print(f\"\\nComparative Analysis:\")\n",
        "print(f\"Accuracy (Original Data): {acc_original:.2f}\")\n",
        "print(f\"Accuracy (Scaled Data): {acc_scaled:.2f}\")\n",
        "\n",
        "if acc_scaled > acc_original:\n",
        "    print(\"Scaling improved the model's accuracy.\")\n",
        "elif acc_scaled < acc_original:\n",
        "    print(\"Scaling decreased the model's accuracy.\")\n",
        "else:\n",
        "    print(\"Scaling did not affect the accuracy.\")\n"
      ],
      "metadata": {
        "colab": {
          "base_uri": "https://localhost:8080/"
        },
        "id": "A6D4OSHAp_gO",
        "outputId": "6136428b-1638-482c-87d3-156eb9fd8d2a"
      },
      "execution_count": null,
      "outputs": [
        {
          "output_type": "stream",
          "name": "stdout",
          "text": [
            "Accuracy with original data and k=5: 0.66\n",
            "\n",
            "Comparative Analysis:\n",
            "Accuracy (Original Data): 0.66\n",
            "Accuracy (Scaled Data): 0.69\n",
            "Scaling improved the model's accuracy.\n"
          ]
        }
      ]
    },
    {
      "cell_type": "markdown",
      "source": [
        "Problem 3 - Experimentation with k"
      ],
      "metadata": {
        "id": "PPEhJpFqqC2y"
      }
    },
    {
      "cell_type": "markdown",
      "source": [
        "1. Vary the Number of Neighbors (k)"
      ],
      "metadata": {
        "id": "Hml-jmImqJgx"
      }
    },
    {
      "cell_type": "code",
      "source": [
        "import time\n",
        "import numpy as np\n",
        "from sklearn.preprocessing import StandardScaler\n",
        "from sklearn.model_selection import train_test_split\n",
        "\n",
        "import pandas as pd\n",
        "from google.colab import drive\n",
        "\n",
        "# Step 1: Mount Google Drive to access the file\n",
        "drive.mount('/content/drive')\n",
        "\n",
        "# Step 2: Load the dataset (replace 'diabetes.csv' with the correct file path)\n",
        "df = pd.read_csv('/content/drive/My Drive/diabetes.csv')\n",
        "# Example, assuming 'Outcome' is the target column\n",
        "X = df.drop('Outcome', axis=1).values\n",
        "y = df['Outcome'].values\n",
        "\n",
        "\n",
        "# Function to calculate Euclidean distance\n",
        "def euclidean_distance(x1, x2):\n",
        "    return np.sqrt(np.sum((x1 - x2) ** 2))\n",
        "\n",
        "# Function to get k nearest neighbors\n",
        "def get_neighbors(X_train, y_train, test_instance, k):\n",
        "    distances = []\n",
        "    for i in range(len(X_train)):\n",
        "        dist = euclidean_distance(X_train[i], test_instance)\n",
        "        distances.append((X_train[i], y_train[i], dist))\n",
        "\n",
        "    distances.sort(key=lambda x: x[2])  # Sort by distance\n",
        "    neighbors = distances[:k]  # Get the k nearest neighbors\n",
        "    return neighbors\n",
        "\n",
        "# Function to predict the class for a single test instance\n",
        "def predict_instance(X_train, y_train, test_instance, k):\n",
        "    neighbors = get_neighbors(X_train, y_train, test_instance, k)\n",
        "    output_values = [neighbor[1] for neighbor in neighbors]\n",
        "    prediction = np.bincount(output_values).argmax()  # Majority class\n",
        "    return prediction\n",
        "\n",
        "# Function to predict classes for all test samples\n",
        "def predict_all(X_train, y_train, X_test, k):\n",
        "    predictions = []\n",
        "    for test_instance in X_test:\n",
        "        prediction = predict_instance(X_train, y_train, test_instance, k)\n",
        "        predictions.append(prediction)\n",
        "    return np.array(predictions)\n",
        "\n",
        "# Accuracy calculation function\n",
        "def accuracy(y_test, y_pred):\n",
        "    correct = np.sum(y_test == y_pred)\n",
        "    return correct / len(y_test)\n",
        "\n",
        "# Prepare data (assuming X and y are already loaded)\n",
        "# Example:\n",
        "# X = feature matrix (2D array), y = labels (1D array)\n",
        "\n",
        "# Split the dataset into training and testing sets (80% training, 20% testing)\n",
        "X_train, X_test, y_train, y_test = train_test_split(X, y, test_size=0.2, random_state=42)\n",
        "\n",
        "# Scale the features\n",
        "scaler = StandardScaler()\n",
        "X_train_scaled = scaler.fit_transform(X_train)\n",
        "X_test_scaled = scaler.transform(X_test)\n",
        "\n",
        "# Initialize variables to store results\n",
        "k_values = range(1, 16)\n",
        "acc_original = []\n",
        "acc_scaled = []\n",
        "time_original = []\n",
        "time_scaled = []\n",
        "\n",
        "# Experiment with different k values\n",
        "for k in k_values:\n",
        "    # Measure time and accuracy for original data\n",
        "    start_time = time.time()\n",
        "    y_pred_original = predict_all(X_train, y_train, X_test, k)\n",
        "    acc_original.append(accuracy(y_test, y_pred_original))\n",
        "    time_original.append(time.time() - start_time)\n",
        "\n",
        "    # Measure time and accuracy for scaled data\n",
        "    start_time = time.time()\n",
        "    y_pred_scaled = predict_all(X_train_scaled, y_train, X_test_scaled, k)\n",
        "    acc_scaled.append(accuracy(y_test, y_pred_scaled))\n",
        "    time_scaled.append(time.time() - start_time)\n",
        "\n"
      ],
      "metadata": {
        "colab": {
          "base_uri": "https://localhost:8080/"
        },
        "id": "eQAJotooqIy6",
        "outputId": "7aab9606-f0fe-4d86-dd04-40fc9ea0c159"
      },
      "execution_count": null,
      "outputs": [
        {
          "output_type": "stream",
          "name": "stdout",
          "text": [
            "Drive already mounted at /content/drive; to attempt to forcibly remount, call drive.mount(\"/content/drive\", force_remount=True).\n"
          ]
        }
      ]
    },
    {
      "cell_type": "markdown",
      "source": [
        "2. Visualize the Results"
      ],
      "metadata": {
        "id": "wu1ZAKq6rIJY"
      }
    },
    {
      "cell_type": "code",
      "source": [
        "import matplotlib.pyplot as plt\n",
        "\n",
        "# 1. Accuracy vs k\n",
        "plt.figure(figsize=(12, 6))\n",
        "\n",
        "plt.subplot(1, 2, 1)\n",
        "plt.plot(k_values, acc_original, label='Original Data', color='blue', marker='o')\n",
        "plt.plot(k_values, acc_scaled, label='Scaled Data', color='red', marker='o')\n",
        "plt.title('k vs. Accuracy')\n",
        "plt.xlabel('k (Number of Neighbors)')\n",
        "plt.ylabel('Accuracy')\n",
        "plt.legend()\n",
        "\n",
        "# 2. Time Taken vs k\n",
        "plt.subplot(1, 2, 2)\n",
        "plt.plot(k_values, time_original, label='Original Data', color='blue', marker='o')\n",
        "plt.plot(k_values, time_scaled, label='Scaled Data', color='red', marker='o')\n",
        "plt.title('k vs. Time Taken')\n",
        "plt.xlabel('k (Number of Neighbors)')\n",
        "plt.ylabel('Time Taken (seconds)')\n",
        "plt.legend()\n",
        "\n",
        "plt.tight_layout()\n",
        "plt.show()\n",
        "\n"
      ],
      "metadata": {
        "colab": {
          "base_uri": "https://localhost:8080/",
          "height": 337
        },
        "id": "xMPjggknrKrd",
        "outputId": "d3581e48-bdd0-45d6-9851-3c7c070866a4"
      },
      "execution_count": null,
      "outputs": [
        {
          "output_type": "display_data",
          "data": {
            "text/plain": [
              "<Figure size 1200x600 with 2 Axes>"
            ],
            "image/png": "[encoded data removed]"
          },
          "metadata": {}
        }
      ]
    },
    {
      "cell_type": "markdown",
      "source": [
        "3. Analyze and Discuss\n",
        "Choice of k:\n",
        "\n",
        "Small\n",
        "𝑘\n",
        "k can lead to overfitting (high variance, low bias).\n",
        "Large\n",
        "𝑘\n",
        "k can lead to underfitting (low variance, high bias).\n",
        "The optimal\n",
        "𝑘\n",
        "k balances bias and variance, maximizing accuracy.\n",
        "Computational Cost:\n",
        "\n",
        "Larger\n",
        "𝑘\n",
        "k increases the computational cost due to more distance calculations.\n",
        "Scaling the dataset often results in faster convergence and improved accuracy.\n",
        "Optimal\n",
        "𝑘\n",
        "k:\n",
        "\n",
        "Based on the plots, determine the\n",
        "𝑘\n",
        "k value with the highest accuracy and acceptable computational cost."
      ],
      "metadata": {
        "id": "Zc8OTY6grdAr"
      }
    },
    {
      "cell_type": "markdown",
      "source": [
        "Problem - 4 - Additional Questions {Optional - But Highly Recommended}:"
      ],
      "metadata": {
        "id": "6ebNQ9bGLnDx"
      }
    },
    {
      "cell_type": "markdown",
      "source": [
        "• Discuss the challenges of using KNN for large datasets and high-dimensional data."
      ],
      "metadata": {
        "id": "dQq83nd6LrAm"
      }
    },
    {
      "cell_type": "code",
      "source": [
        "Challenges of Using KNN for Large Datasets and High-Dimensional Data\n",
        "1. Challenges with Large Datasets:\n",
        "High Memory Usage:\n",
        "KNN is a lazy learning algorithm that stores the entire training dataset in memory. For large datasets, this can lead to memory inefficiencies.\n",
        "Slow Prediction Time:\n",
        "To predict a label for a new instance, KNN computes distances to all training instances. This leads to high computational overhead, especially for large datasets.\n",
        "Inefficient Scaling:\n",
        "As the dataset grows, the prediction time scales linearly, making it unsuitable for real-time applications.\n",
        "2. Challenges with High-Dimensional Data:\n",
        "Curse of Dimensionality:\n",
        "\n",
        "In high-dimensional spaces, distances between points tend to become similar, making it difficult to distinguish between neighbors.\n",
        "The increased sparsity of data in high dimensions degrades the performance of distance-based algorithms like KNN.\n",
        "Increased Computation:\n",
        "\n",
        "High-dimensional data requires more computations for distance calculations, further increasing prediction time.\n",
        "Overfitting Risks:\n",
        "\n",
        "High-dimensional data can introduce irrelevant or noisy features, which may lead to overfitting unless proper feature selection is applied."
      ],
      "metadata": {
        "id": "gi9TuXMALur3"
      },
      "execution_count": null,
      "outputs": []
    },
    {
      "cell_type": "markdown",
      "source": [
        "Strategies to Improve the Efficiency of KNN\n",
        "1. Approximate Nearest Neighbors (ANN) Algorithms:\n",
        "KD-Tree and Ball-Tree:\n",
        "Use hierarchical partitioning to reduce the number of distance computations.\n",
        "Efficient for datasets with moderate dimensionality (e.g., less than 20 dimensions).\n",
        "Locality-Sensitive Hashing (LSH):\n",
        "Reduces search time by hashing points in a way that similar points fall into the same bucket with high probability.\n",
        "Ideal for high-dimensional data.\n",
        "2. Dimensionality Reduction:\n",
        "Principal Component Analysis (PCA):\n",
        "\n",
        "Reduces the number of features by projecting data into lower-dimensional space while retaining most of the variance.\n",
        "t-SNE or UMAP:\n",
        "\n",
        "Effective for reducing dimensions while preserving local structure, particularly for visualization and clustering.\n",
        "Feature Selection:\n",
        "\n",
        "Use statistical tests, recursive feature elimination, or L1 regularization to select the most important features and discard irrelevant ones.\n",
        "3. Efficient Distance Metrics:\n",
        "Manhattan Distance:\n",
        "In certain cases, this can be computationally cheaper than Euclidean distance.\n",
        "Hamming Distance:\n",
        "Useful for categorical or binary data.\n",
        "4. Clustering-Based Preprocessing:\n",
        "Apply clustering algorithms (e.g., K-Means) to reduce the dataset size by summarizing groups of similar points. Use cluster centroids as proxies for individual points.\n",
        "5. Use of Data Structures:\n",
        "VP-Trees and Cover Trees:\n",
        "Optimized data structures for efficient nearest-neighbor search in high-dimensional spaces.\n",
        "6. Parallelization:\n",
        "Distributed Computing:\n",
        "Implement KNN in parallel using frameworks like Apache Spark or Dask to handle large datasets efficiently.\n",
        "GPU Acceleration:\n",
        "Use GPU-based implementations (e.g., RAPIDS cuML) to speed up distance computations.\n",
        "7. Hybrid Methods:\n",
        "Combine KNN with other models, such as decision trees or SVMs, to preprocess data or reduce dimensionality before applying KNN."
      ],
      "metadata": {
        "id": "20MvUYcvNJaP"
      }
    },
    {
      "cell_type": "markdown",
      "source": [],
      "metadata": {
        "id": "dQiPrqszNWnX"
      }
    }
  ]
}